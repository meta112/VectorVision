{
  "nbformat": 4,
  "nbformat_minor": 0,
  "metadata": {
    "colab": {
      "provenance": []
    },
    "kernelspec": {
      "name": "python3",
      "display_name": "Python 3"
    },
    "language_info": {
      "name": "python"
    }
  },
  "cells": [
    {
      "cell_type": "code",
      "execution_count": null,
      "metadata": {
        "id": "o-ARgCDAwild",
        "colab": {
          "base_uri": "https://localhost:8080/"
        },
        "outputId": "03ea660d-350b-4947-d273-5715fcf5c7f6"
      },
      "outputs": [
        {
          "output_type": "stream",
          "name": "stdout",
          "text": [
            "Drive already mounted at /content/gdrive; to attempt to forcibly remount, call drive.mount(\"/content/gdrive\", force_remount=True).\n"
          ]
        }
      ],
      "source": [
        "from google.colab import drive\n",
        "drive.mount('/content/gdrive')"
      ]
    },
    {
      "cell_type": "code",
      "source": [
        "API_KEY = 'sRcVocmkQXDjHVFqtgBH'"
      ],
      "metadata": {
        "id": "q6HtZqxtwzlD"
      },
      "execution_count": null,
      "outputs": []
    },
    {
      "cell_type": "code",
      "source": [
        "import subprocess\n",
        "import json\n",
        "\n",
        "def fetchPredictions(image, api_key, version=2, confidence=40):\n",
        "  '''\n",
        "  run inference using yolov8 model trained on matrices\n",
        "  returns a list of prediction objects extracted from a json\n",
        "  parameters:\n",
        "    image: filename of the image (uploaded to google colab)\n",
        "    api_key: roboflow api key\n",
        "    version: the trained model to be used. latest one trained on the most data right now is 2\n",
        "    confidence: the lower threshold for a prediction to be accepted. default value is 40\n",
        "                but may often need to be lowered to the 20-30 range to capture all numbers\n",
        "  '''\n",
        "  command = 'base64 ' + image + ' | curl -d @- \"https://detect.roboflow.com/matrix-classifier/'\n",
        "  command = command + str(version) + '?api_key=' + API_KEY + '&confidence=' + str(confidence) + '\"'\n",
        "\n",
        "  result = subprocess.getoutput(command)\n",
        "  # Parse the JSON response\n",
        "  json_start = result.find('{\"inference_id\":')\n",
        "  if json_start != -1:\n",
        "      # Extract the JSON string\n",
        "      json_str = result[json_start:]\n",
        "\n",
        "      try:\n",
        "          # Parse the JSON response\n",
        "          response_json = json.loads(json_str)\n",
        "          print(\"Successfully retrieved JSON\")  # Now you can access the JSON object\n",
        "      except json.JSONDecodeError:\n",
        "          print(\"Failed to decode JSON.\")\n",
        "  else:\n",
        "      print(\"JSON part not found in the output.\")\n",
        "\n",
        "  return response_json['predictions']\n"
      ],
      "metadata": {
        "id": "U9PTmuiVw4gX"
      },
      "execution_count": null,
      "outputs": []
    },
    {
      "cell_type": "code",
      "source": [
        "print(\"\\nDo you have one or 2 matrices?\")\n",
        "numOfMatrices = input(\"Enter '1' or '2': \").strip().lower()\n",
        "if numOfMatrices == '1':\n",
        "  predictions = []\n",
        "  #THIS PART CALLS API FROM DEPLOYED AI MODEL ON ROBOFLOW\n",
        "  predictions.append(fetchPredictions('matrix1.jpg', API_KEY))\n",
        "  #THIS PART CALLS API FROM DEPLOYED AI MODEL ON ROBOFLOW\n",
        "else:\n",
        "  predictions = []\n",
        "  #THIS PART CALLS API FROM DEPLOYED AI MODEL ON ROBOFLOW\n",
        "  predictions.append(fetchPredictions('matrix1.jpg', API_KEY))\n",
        "  predictions.append(fetchPredictions('matrix2.jpg', API_KEY))\n",
        "  #THIS PART CALLS API FROM DEPLOYED AI MODEL ON ROBOFLOW\n",
        "\n"
      ],
      "metadata": {
        "id": "D1yrZ6wa42we",
        "colab": {
          "base_uri": "https://localhost:8080/"
        },
        "outputId": "75c30110-155e-4917-bb4e-71f2fd1d7700"
      },
      "execution_count": null,
      "outputs": [
        {
          "output_type": "stream",
          "name": "stdout",
          "text": [
            "\n",
            "Do you have one or 2 matrices?\n",
            "Enter '1' or '2': 1\n",
            "Successfully retrieved JSON\n"
          ]
        }
      ]
    },
    {
      "cell_type": "code",
      "source": [
        "import numpy as np\n",
        "from sympy import *\n",
        "\n",
        "answers = []\n",
        "print(len(predictions))\n",
        "\n",
        "for pred in predictions:\n",
        "\n",
        "  min_x = float('inf')\n",
        "  min_y = float('inf')\n",
        "  max_x = float('-inf')\n",
        "  max_y = float('-inf')\n",
        "\n",
        "\n",
        "  for item in pred:\n",
        "      if item['x'] < min_x:\n",
        "          min_x = item['x']\n",
        "      if item['y'] < min_y:\n",
        "          min_y = item['y']\n",
        "      if item['x'] > max_x:\n",
        "          max_x = item['x']\n",
        "      if item['y'] > max_y:\n",
        "          max_y = item['y']\n",
        "\n",
        "\n",
        "  grid_width = (max_x - min_x) / 3\n",
        "  grid_height = (max_y - min_y) / 3\n",
        "  matrix = [[\"\" for _ in range(3)] for _ in range(3)]\n",
        "  filled_cells = [[False for _ in range(3)] for _ in range(3)]\n",
        "  def find_closest_empty_cell(row, col):\n",
        "      for r in range(3):\n",
        "          for c in range(3):\n",
        "              if not filled_cells[r][c]:\n",
        "                  return r, c\n",
        "      return None, None\n",
        "  for item in pred:\n",
        "      col = int((item['x'] - min_x) // grid_width)\n",
        "      row = int((item['y'] - min_y) // grid_height)\n",
        "      col = min(col, 2)\n",
        "      row = min(row, 2)\n",
        "      if filled_cells[row][col]:\n",
        "          row, col = find_closest_empty_cell(row, col)\n",
        "      matrix[row][col] = item['class']\n",
        "      filled_cells[row][col] = True\n",
        "  for r in range(3):\n",
        "      for c in range(3):\n",
        "          if not filled_cells[r][c]:\n",
        "              row, col = find_closest_empty_cell(r, c)\n",
        "              matrix[r][c] = matrix[row][col]\n",
        "              filled_cells[r][c] = True\n",
        "\n",
        "\n",
        "  print(\"Matrix:\")\n",
        "  for row in matrix:\n",
        "      print(row)\n",
        "\n",
        "\n",
        "  answers.append(matrix)\n",
        "\n",
        "\n"
      ],
      "metadata": {
        "colab": {
          "base_uri": "https://localhost:8080/"
        },
        "id": "ahy9stTxs6AI",
        "outputId": "55579376-1372-41f0-c0da-9b1568f8b46e"
      },
      "execution_count": null,
      "outputs": [
        {
          "output_type": "stream",
          "name": "stdout",
          "text": [
            "1\n",
            "Matrix:\n",
            "['5', '1', '1']\n",
            "['4', '3', '2']\n",
            "['1', '3', '6']\n"
          ]
        }
      ]
    },
    {
      "cell_type": "code",
      "source": [
        "print(\"\\nDo you want to add, subtract, or multiply the two matrices?\")\n",
        "operation = input(\"Enter 'add', 'subtract', or 'multiply', or 'determinant': \").strip().lower()\n",
        "\n",
        "if numOfMatrices == '2':\n",
        "  matrix1 = np.array(answers[0], dtype=int)\n",
        "  matrix2 = np.array(answers[1], dtype=int)\n",
        "  if operation == \"add\":\n",
        "    result = np.add(matrix1, matrix2)\n",
        "  elif operation == \"subtract\":\n",
        "    result = np.subtract(matrix1, matrix2)\n",
        "  elif operation == \"multiply\":\n",
        "    result = np.multiply(matrix1, matrix2)\n",
        "else:\n",
        "  matrix1 = np.array(answers[0], dtype=int)\n",
        "  if operation == \"determinant\":\n",
        "    result = np.linalg.det(matrix1)\n",
        "\n",
        "\n",
        "\n",
        "print(\"Result:\")\n",
        "print(result)"
      ],
      "metadata": {
        "colab": {
          "base_uri": "https://localhost:8080/"
        },
        "id": "4z4nbhLfaZxK",
        "outputId": "66d52bae-bf93-4ccb-9a68-91fe1f6c3923"
      },
      "execution_count": null,
      "outputs": [
        {
          "output_type": "stream",
          "name": "stdout",
          "text": [
            "\n",
            "Do you want to add, subtract, or multiply the two matrices?\n",
            "Enter 'add', 'subtract', or 'multiply', or 'determinant': determinant\n",
            "Result:\n",
            "46.99999999999999\n"
          ]
        }
      ]
    }
  ]
}