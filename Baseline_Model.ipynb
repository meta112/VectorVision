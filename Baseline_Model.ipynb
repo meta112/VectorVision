{
  "nbformat": 4,
  "nbformat_minor": 0,
  "metadata": {
    "colab": {
      "provenance": [],
      "toc_visible": true
    },
    "kernelspec": {
      "name": "python3",
      "display_name": "Python 3"
    },
    "language_info": {
      "name": "python"
    }
  },
  "cells": [
    {
      "cell_type": "code",
      "source": [
        "from google.colab import drive\n",
        "import numpy as np\n",
        "import PIL\n",
        "from PIL import ImageOps\n",
        "import numpy as np\n",
        "import pandas\n",
        "from sklearn.svm import SVC as SupportVectorClassifier\n",
        "from sklearn import preprocessing"
      ],
      "metadata": {
        "id": "sjsj7YkHVsiy"
      },
      "execution_count": null,
      "outputs": []
    },
    {
      "cell_type": "code",
      "source": [
        "#some initialization\n",
        "drive.mount('/content/drive')\n",
        "trainData = pandas.read_csv(\"/content/drive/My Drive/mnist_train.csv\")\n",
        "\n",
        "#get the training data\n",
        "features = trainData.drop(columns = \"label\") #drop the labels\n",
        "labels = trainData.get(\"label\") #label column only\n",
        "\n",
        "#do some scaling\n",
        "featuresTrain = preprocessing.scale(features)\n",
        "\n",
        "#training\n",
        "model = SupportVectorClassifier()\n",
        "model.fit(featuresTrain, labels)\n",
        "\n",
        "\n"
      ],
      "metadata": {
        "id": "zcFt1WdRfU1F"
      },
      "execution_count": null,
      "outputs": []
    },
    {
      "cell_type": "code",
      "source": [
        "#matrix input as np array\n",
        "def getMatrixDigits(matrix):\n",
        "  digits = [] #array to store each parsed digit\n",
        "  matrix = np.array(matrix)\n",
        "  for x in range(3):\n",
        "    for y in range(3):\n",
        "      image = matrix[x*28 : (x+1)*28, y*28 : (y+1)*28]\n",
        "      image = preprocessing.scale(image)\n",
        "      digits.append(image)\n",
        "  return digits #returns array of images\n",
        "\n",
        "#digit is a 28x28 scaled image\n",
        "def predictDigit(digit):\n",
        "  digit = digit.reshape(1, -1)\n",
        "  prediction = model.predict(digit)\n",
        "  return prediction #returns what the model predicts (int)\n",
        "\n",
        "#extract the matrix(testing placeholder for now)\n",
        "matrix = PIL.Image.open(\"matrix_valid_3x3_964.png\")\n",
        "matrix = PIL.ImageOps.invert(matrix)\n",
        "\n",
        "\n",
        "\n",
        "\n",
        "#parse the matrix into individual images\n",
        "digits = getMatrixDigits(matrix)\n",
        "predictions = []\n",
        "for digit in digits:\n",
        "  predictions.append(predictDigit(digit))\n",
        "\n",
        "#concatenate the predictions into a 3x3 matrix\n",
        "matrix = np.empty((3,3))\n",
        "for i in range(3):\n",
        "  for j in range(3):\n",
        "    matrix[i][j] = int(predictions[i*3 + j][0])\n",
        "\n",
        "#print the matrix\n",
        "print(matrix)\n",
        "\n"
      ],
      "metadata": {
        "colab": {
          "base_uri": "https://localhost:8080/"
        },
        "id": "rbALT8oZq4TN",
        "outputId": "6eb9f195-d953-4e9f-d127-f6aecc286998"
      },
      "execution_count": null,
      "outputs": [
        {
          "output_type": "stream",
          "name": "stdout",
          "text": [
            "[[9. 6. 4.]\n",
            " [4. 7. 7.]\n",
            " [8. 4. 8.]]\n"
          ]
        }
      ]
    }
  ]
}