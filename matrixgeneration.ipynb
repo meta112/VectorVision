{
  "cells": [
    {
      "cell_type": "code",
      "execution_count": 1,
      "metadata": {
        "id": "Urh2_oGE1nbP"
      },
      "outputs": [],
      "source": [
        "import numpy as np\n",
        "import torch\n",
        "import torch.nn as nn\n",
        "import torch.nn.functional as F\n",
        "from torchvision import datasets, transforms\n",
        "import torchvision\n",
        "import matplotlib.pyplot as plt # for plotting\n",
        "import torch.optim as optim\n",
        "from torch.utils.data.sampler import SubsetRandomSampler"
      ]
    },
    {
      "cell_type": "code",
      "execution_count": null,
      "metadata": {
        "colab": {
          "base_uri": "https://localhost:8080/"
        },
        "id": "2P9eo9xb1p7T",
        "outputId": "4252af99-2f2f-43d4-a588-812334be5132"
      },
      "outputs": [],
      "source": [
        "# load the data\n",
        "img_to_tensor = transforms.ToTensor()\n",
        "mnist_data = datasets.MNIST('data', train=True, download=True, transform=img_to_tensor)\n",
        "mnist_data = list(mnist_data)"
      ]
    },
    {
      "cell_type": "code",
      "execution_count": null,
      "metadata": {
        "id": "eVnKMB6S1uTL"
      },
      "outputs": [],
      "source": [
        "from google.colab import drive\n",
        "drive.mount('/content/gdrive')"
      ]
    },
    {
      "cell_type": "code",
      "execution_count": null,
      "metadata": {
        "id": "GH8jdL6h10vx"
      },
      "outputs": [],
      "source": [
        "base_dir = '/content/gdrive/MyDrive/aps360/project/test/imagesaving/'"
      ]
    },
    {
      "cell_type": "code",
      "execution_count": null,
      "metadata": {
        "id": "p_4V9Yf11_Pv"
      },
      "outputs": [],
      "source": [
        "def generateMatrices(data, rows, cols, num=0, directory='', valid=True):\n",
        "  if num < 1:\n",
        "    num = int(len(data) / (rows * cols))\n",
        "  inds = list(range(len(data)))\n",
        "  np.random.shuffle(inds)\n",
        "\n",
        "  i = 0\n",
        "  for matrix in range(num):\n",
        "    baseimg = data[inds[i]][0]\n",
        "    if not valid:\n",
        "      blanksquare = torch.zeros(baseimg.shape)\n",
        "      blankinds = np.random.randint(rows * cols, size=min(rows, cols)-1)\n",
        "      #print(blankinds)\n",
        "      if 0 in blankinds:\n",
        "        baseimg = blanksquare\n",
        "\n",
        "    for r in range(rows):\n",
        "      for c in range(cols):\n",
        "        if c == 0:\n",
        "          if not valid and r * cols + c in blankinds:\n",
        "            rowbase = blanksquare\n",
        "          else:\n",
        "            rowbase = data[inds[i]][0]\n",
        "        else:\n",
        "          i += 1\n",
        "          if i >= len(data):\n",
        "            i = 0\n",
        "            np.random.shuffle(inds)\n",
        "          if not valid and r * cols + c in blankinds:\n",
        "            rowbase = torch.concat((rowbase, blanksquare), dim=2)\n",
        "          else:\n",
        "            rowbase = torch.concat((rowbase, data[inds[i]][0]), dim=2)\n",
        "      i += 1\n",
        "      if i >= len(data):\n",
        "        i = 0\n",
        "        np.random.shuffle(inds)\n",
        "      if r == 0:\n",
        "        baseimg = rowbase\n",
        "      else:\n",
        "        baseimg = torch.concat((baseimg, rowbase), dim=1)\n",
        "    baseimg = transforms.functional.invert(baseimg)\n",
        "    #plt.imshow(baseimg.squeeze(), cmap='Greys')\n",
        "    #plt.show()\n",
        "    if directory != '':\n",
        "      torchvision.utils.save_image(baseimg, directory + \"matrix_{}_{}x{}_{}.jpg\".format(\n",
        "          'valid' if valid else 'invalid', rows, cols, matrix\n",
        "      ))\n"
      ]
    },
    {
      "cell_type": "code",
      "execution_count": null,
      "metadata": {
        "id": "EBaHmjeq2AnR"
      },
      "outputs": [],
      "source": [
        "np.random.seed(1337)\n",
        "generateMatrices(mnist_data, 3, 3, num=6000, directory=(base_dir + '3x3/'))\n",
        "generateMatrices(mnist_data, 3, 3, num=500, directory=(base_dir + 'fake3x3/'), valid=False)"
      ]
    }
  ],
  "metadata": {
    "colab": {
      "provenance": []
    },
    "kernelspec": {
      "display_name": "Python 3",
      "name": "python3"
    },
    "language_info": {
      "name": "python"
    }
  },
  "nbformat": 4,
  "nbformat_minor": 0
}
